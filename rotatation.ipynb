{
  "nbformat": 4,
  "nbformat_minor": 0,
  "metadata": {
    "colab": {
      "provenance": [],
      "authorship_tag": "ABX9TyNGIIxavC2gG4KTnh1uS28p",
      "include_colab_link": true
    },
    "kernelspec": {
      "name": "python3",
      "display_name": "Python 3"
    },
    "language_info": {
      "name": "python"
    }
  },
  "cells": [
    {
      "cell_type": "markdown",
      "metadata": {
        "id": "view-in-github",
        "colab_type": "text"
      },
      "source": [
        "<a href=\"https://colab.research.google.com/github/khurramkhalil/rotation-translation/blob/main/rotatation.ipynb\" target=\"_parent\"><img src=\"https://colab.research.google.com/assets/colab-badge.svg\" alt=\"Open In Colab\"/></a>"
      ]
    },
    {
      "cell_type": "markdown",
      "source": [],
      "metadata": {
        "id": "3rKGuKZSY4Jb"
      }
    },
    {
      "cell_type": "code",
      "source": [
        "# Import necessary libraries\n",
        "import numpy as np"
      ],
      "metadata": {
        "id": "S6O-0G7hZJiM"
      },
      "execution_count": null,
      "outputs": []
    },
    {
      "cell_type": "markdown",
      "source": [
        "# Rotation and Translation in 3D Space\n",
        "## Step 1: Rotation around the Y-axis by 45 degrees\n",
        "The rotation matrix for a rotation around the Y-axis is given by:\n",
        "\n",
        "$$\n",
        "R_y(\\theta) = \\begin{bmatrix}  \n",
        "\\cos(\\theta) & 0 & \\sin(\\theta) \\\\\n",
        "0 & 1 & 0 \\\\  \n",
        "-\\sin(\\theta) & 0 & \\cos(\\theta)  \n",
        "\\end{bmatrix}\n",
        "$$\n",
        "\n",
        "In this case, \\\\(\\theta = 45^\\circ\\\\)."
      ],
      "metadata": {
        "id": "PaG9E8o9Ymia"
      }
    },
    {
      "cell_type": "code",
      "source": [
        "# Define the rotation angle\n",
        "theta = np.radians(45)\n",
        "\n",
        "# Rotation matrix around the Y-axis\n",
        "R_y = np.array([\n",
        "    [np.cos(theta), 0, np.sin(theta)],\n",
        "    [0, 1, 0],\n",
        "    [-np.sin(theta), 0, np.cos(theta)]\n",
        "])"
      ],
      "metadata": {
        "id": "52VwQj8UZPPN"
      },
      "execution_count": null,
      "outputs": []
    },
    {
      "cell_type": "markdown",
      "source": [
        "## Step 2: Translation by vector \\([3, 2, 1]\\)\n",
        "The translation transformation can be represented as a 4x4 matrix:\n",
        "\n",
        "$$\n",
        "T = \\begin{bmatrix}\n",
        "1 & 0 & 0 & t_x \\\\  \n",
        "0 & 1 & 0 & t_y \\\\\n",
        "0 & 0 & 1 & t_z \\\\\n",
        "0 & 0 & 0 & 1   \n",
        "\\end{bmatrix}\n",
        "$$\n",
        "\n",
        "Here, \\\\(t_x = 3\\\\), \\\\(t_y = 2\\\\), and \\\\(t_z = 1\\\\)."
      ],
      "metadata": {
        "id": "JsLzzKWiYq30"
      }
    },
    {
      "cell_type": "code",
      "source": [
        "# Step 2: Translation by vector [3, 2, 1]\n",
        "\n",
        "# Translation vector\n",
        "translation_vector = np.array([3, 2, 1])\n",
        "\n",
        "# Translation matrix\n",
        "T = np.eye(4)\n",
        "T[:3, 3] = translation_vector"
      ],
      "metadata": {
        "id": "MRDf5J3pZTgG"
      },
      "execution_count": null,
      "outputs": []
    },
    {
      "cell_type": "markdown",
      "source": [
        "## Step 3: Combine the transformations\n",
        "To find the final transformation matrix, multiply the translation matrix \\(T\\) with the rotation matrix\n",
        "\\(R_y(\\theta)\\):\n",
        "\\[ M = T \\times R_y(\\theta) \\]"
      ],
      "metadata": {
        "id": "LNzn9pxnYs6i"
      }
    },
    {
      "cell_type": "code",
      "source": [
        "# Step 3: Combine the transformations\n",
        "\n",
        "# Final transformation matrix\n",
        "M = T @ np.vstack([np.hstack([R_y, np.zeros((3, 1))]), [0, 0, 0, 1]])"
      ],
      "metadata": {
        "id": "0x41lW8qZVKG"
      },
      "execution_count": null,
      "outputs": []
    },
    {
      "cell_type": "markdown",
      "source": [
        "## Step 4: Apply the transformation to the point \\([1, 2, 3]\\)\n",
        "The new coordinates \\\\((x', y', z')\\\\) can be found by multiplying the point \\\\((1, 2, 3)\\\\) (treated as a column vector) with the transformation matrix \\\\(M\\\\):\n",
        "\n",
        "$$\n",
        "\\begin{bmatrix}\n",
        "x'\\\\\\\\\n",
        "y'\\\\\\\\\n",
        "z'  \n",
        "\\end{bmatrix}\n",
        "=\n",
        "M \\times  \n",
        "\\begin{bmatrix}\n",
        "1 \\\\\\\n",
        "2 \\\\\\  \n",
        "3  \n",
        "\\end{bmatrix}\n",
        "$$"
      ],
      "metadata": {
        "id": "iZRoLIiDYvhM"
      }
    },
    {
      "cell_type": "code",
      "source": [
        "# Step 4: Apply the transformation to the point [1, 2, 3]\n",
        "\n",
        "# Original point\n",
        "point = np.array([1, 2, 3, 1])\n",
        "\n",
        "# Apply the transformation\n",
        "new_point = M @ point"
      ],
      "metadata": {
        "id": "1Cqn-ZN8ZZNu"
      },
      "execution_count": null,
      "outputs": []
    },
    {
      "cell_type": "code",
      "source": [
        "# Display the result\n",
        "new_point[:3]"
      ],
      "metadata": {
        "colab": {
          "base_uri": "https://localhost:8080/"
        },
        "id": "FUc4iD5NZcpv",
        "outputId": "19f7660a-f7f0-4a25-e29f-24b658d572a2"
      },
      "execution_count": null,
      "outputs": [
        {
          "output_type": "execute_result",
          "data": {
            "text/plain": [
              "array([5.82842712, 4.        , 2.41421356])"
            ]
          },
          "metadata": {},
          "execution_count": 6
        }
      ]
    }
  ]
}